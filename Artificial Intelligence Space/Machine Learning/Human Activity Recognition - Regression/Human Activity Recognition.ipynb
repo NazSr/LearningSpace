{
 "cells": [
  {
   "cell_type": "markdown",
   "metadata": {},
   "source": [
    "# Project: Human Activity Recognition\n",
    "### Domain: *Machine Learning*\n",
    "#### Author:  *Shabnam naz*\n",
    "#### Date:      *30th Dec, 2018*\n",
    "#### Dataset: *Recordings of 30 study participants performing daily-activities while carrying a smartphone.*"
   ]
  },
  {
   "cell_type": "markdown",
   "metadata": {},
   "source": [
    "## Module 1: Exploring Human Activity with Smartphones Dataset"
   ]
  },
  {
   "cell_type": "code",
   "execution_count": 217,
   "metadata": {},
   "outputs": [],
   "source": [
    "import pandas as pd\n",
    "import numpy as np\n",
    "from sklearn.cross_validation import train_test_split\n",
    "from sklearn.preprocessing import MinMaxScaler\n",
    "from sklearn.discriminant_analysis import LinearDiscriminantAnalysis as LDA\n",
    "from sklearn.neighbors import KNeighborsClassifier\n",
    "from sklearn.linear_model import LogisticRegression\n",
    "from sklearn.metrics import accuracy_score\n",
    "from sklearn import tree\n",
    "from sklearn import svm\n",
    "from sklearn.naive_bayes import GaussianNB\n",
    "from sklearn import tree, grid_search\n",
    "from sklearn.preprocessing import LabelEncoder\n",
    "from sklearn import cross_validation\n",
    "from sklearn.metrics import classification_report"
   ]
  },
  {
   "cell_type": "code",
   "execution_count": 3,
   "metadata": {},
   "outputs": [],
   "source": [
    "train_set = pd.read_csv(\"E:/Workspace/Python Workspace/Ml/Human_Activity_Recognition/train.csv\")\n"
   ]
  },
  {
   "cell_type": "code",
   "execution_count": 4,
   "metadata": {},
   "outputs": [],
   "source": [
    "test_set = pd.read_csv(\"E:/Workspace/Python Workspace/Ml/Human_Activity_Recognition/test.csv\")"
   ]
  },
  {
   "cell_type": "code",
   "execution_count": 5,
   "metadata": {},
   "outputs": [
    {
     "data": {
      "text/plain": [
       "(7352, 563)"
      ]
     },
     "execution_count": 5,
     "metadata": {},
     "output_type": "execute_result"
    }
   ],
   "source": [
    "train_set.shape"
   ]
  },
  {
   "cell_type": "code",
   "execution_count": 6,
   "metadata": {},
   "outputs": [
    {
     "data": {
      "text/plain": [
       "(2947, 563)"
      ]
     },
     "execution_count": 6,
     "metadata": {},
     "output_type": "execute_result"
    }
   ],
   "source": [
    "test_set.shape"
   ]
  },
  {
   "cell_type": "code",
   "execution_count": 7,
   "metadata": {
    "scrolled": true
   },
   "outputs": [],
   "source": [
    "data = pd.concat([train_set,test_set])"
   ]
  },
  {
   "cell_type": "code",
   "execution_count": 8,
   "metadata": {},
   "outputs": [],
   "source": [
    "#data.to_csv(\"smartphone_data.csv\",index=False)"
   ]
  },
  {
   "cell_type": "markdown",
   "metadata": {},
   "source": [
    "## Module 2: Data Preprocessing"
   ]
  },
  {
   "cell_type": "code",
   "execution_count": 10,
   "metadata": {},
   "outputs": [
    {
     "data": {
      "text/plain": [
       "tBodyAcc-mean()-X                       0\n",
       "tBodyAcc-mean()-Y                       0\n",
       "tBodyAcc-mean()-Z                       0\n",
       "tBodyAcc-std()-X                        0\n",
       "tBodyAcc-std()-Y                        0\n",
       "tBodyAcc-std()-Z                        0\n",
       "tBodyAcc-mad()-X                        0\n",
       "tBodyAcc-mad()-Y                        0\n",
       "tBodyAcc-mad()-Z                        0\n",
       "tBodyAcc-max()-X                        0\n",
       "tBodyAcc-max()-Y                        0\n",
       "tBodyAcc-max()-Z                        0\n",
       "tBodyAcc-min()-X                        0\n",
       "tBodyAcc-min()-Y                        0\n",
       "tBodyAcc-min()-Z                        0\n",
       "tBodyAcc-sma()                          0\n",
       "tBodyAcc-energy()-X                     0\n",
       "tBodyAcc-energy()-Y                     0\n",
       "tBodyAcc-energy()-Z                     0\n",
       "tBodyAcc-iqr()-X                        0\n",
       "tBodyAcc-iqr()-Y                        0\n",
       "tBodyAcc-iqr()-Z                        0\n",
       "tBodyAcc-entropy()-X                    0\n",
       "tBodyAcc-entropy()-Y                    0\n",
       "tBodyAcc-entropy()-Z                    0\n",
       "tBodyAcc-arCoeff()-X,1                  0\n",
       "tBodyAcc-arCoeff()-X,2                  0\n",
       "tBodyAcc-arCoeff()-X,3                  0\n",
       "tBodyAcc-arCoeff()-X,4                  0\n",
       "tBodyAcc-arCoeff()-Y,1                  0\n",
       "                                       ..\n",
       "fBodyBodyGyroMag-sma()                  0\n",
       "fBodyBodyGyroMag-energy()               0\n",
       "fBodyBodyGyroMag-iqr()                  0\n",
       "fBodyBodyGyroMag-entropy()              0\n",
       "fBodyBodyGyroMag-maxInds                0\n",
       "fBodyBodyGyroMag-meanFreq()             0\n",
       "fBodyBodyGyroMag-skewness()             0\n",
       "fBodyBodyGyroMag-kurtosis()             0\n",
       "fBodyBodyGyroJerkMag-mean()             0\n",
       "fBodyBodyGyroJerkMag-std()              0\n",
       "fBodyBodyGyroJerkMag-mad()              0\n",
       "fBodyBodyGyroJerkMag-max()              0\n",
       "fBodyBodyGyroJerkMag-min()              0\n",
       "fBodyBodyGyroJerkMag-sma()              0\n",
       "fBodyBodyGyroJerkMag-energy()           0\n",
       "fBodyBodyGyroJerkMag-iqr()              0\n",
       "fBodyBodyGyroJerkMag-entropy()          0\n",
       "fBodyBodyGyroJerkMag-maxInds            0\n",
       "fBodyBodyGyroJerkMag-meanFreq()         0\n",
       "fBodyBodyGyroJerkMag-skewness()         0\n",
       "fBodyBodyGyroJerkMag-kurtosis()         0\n",
       "angle(tBodyAccMean,gravity)             0\n",
       "angle(tBodyAccJerkMean),gravityMean)    0\n",
       "angle(tBodyGyroMean,gravityMean)        0\n",
       "angle(tBodyGyroJerkMean,gravityMean)    0\n",
       "angle(X,gravityMean)                    0\n",
       "angle(Y,gravityMean)                    0\n",
       "angle(Z,gravityMean)                    0\n",
       "subject                                 0\n",
       "Activity                                0\n",
       "Length: 563, dtype: int64"
      ]
     },
     "execution_count": 10,
     "metadata": {},
     "output_type": "execute_result"
    }
   ],
   "source": [
    "data.isnull().sum()"
   ]
  },
  {
   "cell_type": "markdown",
   "metadata": {},
   "source": [
    "### Label Encoding"
   ]
  },
  {
   "cell_type": "code",
   "execution_count": 12,
   "metadata": {},
   "outputs": [],
   "source": [
    "labels = data['Activity']\n",
    "le = LabelEncoder()\n",
    "y = le.fit_transform(labels)"
   ]
  },
  {
   "cell_type": "code",
   "execution_count": 13,
   "metadata": {},
   "outputs": [],
   "source": [
    "X = data.drop('Activity',axis=1,inplace=False)"
   ]
  },
  {
   "cell_type": "code",
   "execution_count": 14,
   "metadata": {},
   "outputs": [
    {
     "data": {
      "text/plain": [
       "(10299, 562)"
      ]
     },
     "execution_count": 14,
     "metadata": {},
     "output_type": "execute_result"
    }
   ],
   "source": [
    "X.shape"
   ]
  },
  {
   "cell_type": "code",
   "execution_count": 15,
   "metadata": {},
   "outputs": [
    {
     "data": {
      "text/plain": [
       "(10299,)"
      ]
     },
     "execution_count": 15,
     "metadata": {},
     "output_type": "execute_result"
    }
   ],
   "source": [
    "y.shape"
   ]
  },
  {
   "cell_type": "markdown",
   "metadata": {},
   "source": [
    "### Splitting into test and train"
   ]
  },
  {
   "cell_type": "code",
   "execution_count": 17,
   "metadata": {},
   "outputs": [],
   "source": [
    "## Spliting of training dataset into 70% training data and 30% testing data randomly\n",
    "features_train, features_test, labels_train, labels_test = cross_validation.train_test_split(X, y, test_size=0.3, random_state=1)"
   ]
  },
  {
   "cell_type": "code",
   "execution_count": 18,
   "metadata": {},
   "outputs": [
    {
     "data": {
      "text/plain": [
       "(7209, 562)"
      ]
     },
     "execution_count": 18,
     "metadata": {},
     "output_type": "execute_result"
    }
   ],
   "source": [
    "features_train.shape"
   ]
  },
  {
   "cell_type": "code",
   "execution_count": 19,
   "metadata": {},
   "outputs": [
    {
     "data": {
      "text/plain": [
       "(3090, 562)"
      ]
     },
     "execution_count": 19,
     "metadata": {},
     "output_type": "execute_result"
    }
   ],
   "source": [
    "features_test.shape"
   ]
  },
  {
   "cell_type": "code",
   "execution_count": 20,
   "metadata": {},
   "outputs": [
    {
     "data": {
      "text/plain": [
       "(7209,)"
      ]
     },
     "execution_count": 20,
     "metadata": {},
     "output_type": "execute_result"
    }
   ],
   "source": [
    "labels_train.shape"
   ]
  },
  {
   "cell_type": "code",
   "execution_count": 21,
   "metadata": {},
   "outputs": [
    {
     "data": {
      "text/plain": [
       "(3090,)"
      ]
     },
     "execution_count": 21,
     "metadata": {},
     "output_type": "execute_result"
    }
   ],
   "source": [
    "labels_test.shape"
   ]
  },
  {
   "cell_type": "code",
   "execution_count": 22,
   "metadata": {
    "scrolled": false
   },
   "outputs": [
    {
     "data": {
      "text/html": [
       "<div>\n",
       "<style scoped>\n",
       "    .dataframe tbody tr th:only-of-type {\n",
       "        vertical-align: middle;\n",
       "    }\n",
       "\n",
       "    .dataframe tbody tr th {\n",
       "        vertical-align: top;\n",
       "    }\n",
       "\n",
       "    .dataframe thead th {\n",
       "        text-align: right;\n",
       "    }\n",
       "</style>\n",
       "<table border=\"1\" class=\"dataframe\">\n",
       "  <thead>\n",
       "    <tr style=\"text-align: right;\">\n",
       "      <th></th>\n",
       "      <th>tBodyAcc-mean()-X</th>\n",
       "      <th>tBodyAcc-mean()-Y</th>\n",
       "      <th>tBodyAcc-mean()-Z</th>\n",
       "      <th>tBodyAcc-std()-X</th>\n",
       "      <th>tBodyAcc-std()-Y</th>\n",
       "      <th>tBodyAcc-std()-Z</th>\n",
       "      <th>tBodyAcc-mad()-X</th>\n",
       "      <th>tBodyAcc-mad()-Y</th>\n",
       "      <th>tBodyAcc-mad()-Z</th>\n",
       "      <th>tBodyAcc-max()-X</th>\n",
       "      <th>...</th>\n",
       "      <th>fBodyBodyGyroJerkMag-skewness()</th>\n",
       "      <th>fBodyBodyGyroJerkMag-kurtosis()</th>\n",
       "      <th>angle(tBodyAccMean,gravity)</th>\n",
       "      <th>angle(tBodyAccJerkMean),gravityMean)</th>\n",
       "      <th>angle(tBodyGyroMean,gravityMean)</th>\n",
       "      <th>angle(tBodyGyroJerkMean,gravityMean)</th>\n",
       "      <th>angle(X,gravityMean)</th>\n",
       "      <th>angle(Y,gravityMean)</th>\n",
       "      <th>angle(Z,gravityMean)</th>\n",
       "      <th>subject</th>\n",
       "    </tr>\n",
       "  </thead>\n",
       "  <tbody>\n",
       "    <tr>\n",
       "      <th>401</th>\n",
       "      <td>0.277897</td>\n",
       "      <td>-0.016520</td>\n",
       "      <td>-0.105180</td>\n",
       "      <td>-0.996976</td>\n",
       "      <td>-0.988746</td>\n",
       "      <td>-0.988274</td>\n",
       "      <td>-0.997291</td>\n",
       "      <td>-0.988722</td>\n",
       "      <td>-0.987819</td>\n",
       "      <td>-0.941873</td>\n",
       "      <td>...</td>\n",
       "      <td>-0.278664</td>\n",
       "      <td>-0.737147</td>\n",
       "      <td>-0.098136</td>\n",
       "      <td>-0.206043</td>\n",
       "      <td>0.099204</td>\n",
       "      <td>0.267614</td>\n",
       "      <td>-0.879640</td>\n",
       "      <td>0.030850</td>\n",
       "      <td>-0.038590</td>\n",
       "      <td>3</td>\n",
       "    </tr>\n",
       "    <tr>\n",
       "      <th>3436</th>\n",
       "      <td>0.272100</td>\n",
       "      <td>-0.026672</td>\n",
       "      <td>-0.099319</td>\n",
       "      <td>-0.997213</td>\n",
       "      <td>-0.983246</td>\n",
       "      <td>-0.970819</td>\n",
       "      <td>-0.997226</td>\n",
       "      <td>-0.982041</td>\n",
       "      <td>-0.967241</td>\n",
       "      <td>-0.944045</td>\n",
       "      <td>...</td>\n",
       "      <td>-0.765761</td>\n",
       "      <td>-0.960725</td>\n",
       "      <td>-0.006738</td>\n",
       "      <td>-0.163546</td>\n",
       "      <td>-0.280305</td>\n",
       "      <td>0.394918</td>\n",
       "      <td>-0.709396</td>\n",
       "      <td>0.293736</td>\n",
       "      <td>0.063947</td>\n",
       "      <td>17</td>\n",
       "    </tr>\n",
       "    <tr>\n",
       "      <th>3439</th>\n",
       "      <td>0.278350</td>\n",
       "      <td>-0.014307</td>\n",
       "      <td>-0.114389</td>\n",
       "      <td>-0.996057</td>\n",
       "      <td>-0.980890</td>\n",
       "      <td>-0.990357</td>\n",
       "      <td>-0.996341</td>\n",
       "      <td>-0.978208</td>\n",
       "      <td>-0.989772</td>\n",
       "      <td>-0.941099</td>\n",
       "      <td>...</td>\n",
       "      <td>-0.493205</td>\n",
       "      <td>-0.790497</td>\n",
       "      <td>0.045400</td>\n",
       "      <td>0.232965</td>\n",
       "      <td>0.293614</td>\n",
       "      <td>0.480212</td>\n",
       "      <td>-0.702775</td>\n",
       "      <td>0.299083</td>\n",
       "      <td>0.060819</td>\n",
       "      <td>17</td>\n",
       "    </tr>\n",
       "    <tr>\n",
       "      <th>6309</th>\n",
       "      <td>0.272475</td>\n",
       "      <td>-0.030557</td>\n",
       "      <td>-0.133180</td>\n",
       "      <td>-0.987764</td>\n",
       "      <td>-0.949442</td>\n",
       "      <td>-0.837448</td>\n",
       "      <td>-0.989228</td>\n",
       "      <td>-0.949943</td>\n",
       "      <td>-0.817169</td>\n",
       "      <td>-0.935301</td>\n",
       "      <td>...</td>\n",
       "      <td>-0.804299</td>\n",
       "      <td>-0.986475</td>\n",
       "      <td>-0.038392</td>\n",
       "      <td>-0.055806</td>\n",
       "      <td>0.044068</td>\n",
       "      <td>-0.127407</td>\n",
       "      <td>-0.807757</td>\n",
       "      <td>0.223332</td>\n",
       "      <td>0.063971</td>\n",
       "      <td>28</td>\n",
       "    </tr>\n",
       "  </tbody>\n",
       "</table>\n",
       "<p>4 rows × 562 columns</p>\n",
       "</div>"
      ],
      "text/plain": [
       "      tBodyAcc-mean()-X  tBodyAcc-mean()-Y  tBodyAcc-mean()-Z  \\\n",
       "401            0.277897          -0.016520          -0.105180   \n",
       "3436           0.272100          -0.026672          -0.099319   \n",
       "3439           0.278350          -0.014307          -0.114389   \n",
       "6309           0.272475          -0.030557          -0.133180   \n",
       "\n",
       "      tBodyAcc-std()-X  tBodyAcc-std()-Y  tBodyAcc-std()-Z  tBodyAcc-mad()-X  \\\n",
       "401          -0.996976         -0.988746         -0.988274         -0.997291   \n",
       "3436         -0.997213         -0.983246         -0.970819         -0.997226   \n",
       "3439         -0.996057         -0.980890         -0.990357         -0.996341   \n",
       "6309         -0.987764         -0.949442         -0.837448         -0.989228   \n",
       "\n",
       "      tBodyAcc-mad()-Y  tBodyAcc-mad()-Z  tBodyAcc-max()-X   ...     \\\n",
       "401          -0.988722         -0.987819         -0.941873   ...      \n",
       "3436         -0.982041         -0.967241         -0.944045   ...      \n",
       "3439         -0.978208         -0.989772         -0.941099   ...      \n",
       "6309         -0.949943         -0.817169         -0.935301   ...      \n",
       "\n",
       "      fBodyBodyGyroJerkMag-skewness()  fBodyBodyGyroJerkMag-kurtosis()  \\\n",
       "401                         -0.278664                        -0.737147   \n",
       "3436                        -0.765761                        -0.960725   \n",
       "3439                        -0.493205                        -0.790497   \n",
       "6309                        -0.804299                        -0.986475   \n",
       "\n",
       "      angle(tBodyAccMean,gravity)  angle(tBodyAccJerkMean),gravityMean)  \\\n",
       "401                     -0.098136                             -0.206043   \n",
       "3436                    -0.006738                             -0.163546   \n",
       "3439                     0.045400                              0.232965   \n",
       "6309                    -0.038392                             -0.055806   \n",
       "\n",
       "      angle(tBodyGyroMean,gravityMean)  angle(tBodyGyroJerkMean,gravityMean)  \\\n",
       "401                           0.099204                              0.267614   \n",
       "3436                         -0.280305                              0.394918   \n",
       "3439                          0.293614                              0.480212   \n",
       "6309                          0.044068                             -0.127407   \n",
       "\n",
       "      angle(X,gravityMean)  angle(Y,gravityMean)  angle(Z,gravityMean)  \\\n",
       "401              -0.879640              0.030850             -0.038590   \n",
       "3436             -0.709396              0.293736              0.063947   \n",
       "3439             -0.702775              0.299083              0.060819   \n",
       "6309             -0.807757              0.223332              0.063971   \n",
       "\n",
       "      subject  \n",
       "401         3  \n",
       "3436       17  \n",
       "3439       17  \n",
       "6309       28  \n",
       "\n",
       "[4 rows x 562 columns]"
      ]
     },
     "execution_count": 22,
     "metadata": {},
     "output_type": "execute_result"
    }
   ],
   "source": [
    "features_train.head(4)"
   ]
  },
  {
   "cell_type": "code",
   "execution_count": 174,
   "metadata": {},
   "outputs": [],
   "source": [
    "scaler = MinMaxScaler()\n",
    "features_train = scaler.fit_transform(features_train)\n",
    "features_test = scaler.transform(features_test)"
   ]
  },
  {
   "cell_type": "markdown",
   "metadata": {},
   "source": [
    "## Module 3. Model Building"
   ]
  },
  {
   "cell_type": "code",
   "execution_count": 193,
   "metadata": {},
   "outputs": [],
   "source": [
    "accuracy_list = []"
   ]
  },
  {
   "cell_type": "markdown",
   "metadata": {},
   "source": [
    "### 1. LDA "
   ]
  },
  {
   "cell_type": "code",
   "execution_count": 219,
   "metadata": {
    "scrolled": false
   },
   "outputs": [
    {
     "name": "stderr",
     "output_type": "stream",
     "text": [
      "c:\\users\\shabnam naz\\appdata\\local\\programs\\python\\python37\\lib\\site-packages\\sklearn\\discriminant_analysis.py:388: UserWarning: Variables are collinear.\n",
      "  warnings.warn(\"Variables are collinear.\")\n"
     ]
    }
   ],
   "source": [
    "lda = LDA()\n",
    "lda.fit(features_train, labels_train)\n",
    "prediction = lda.predict(features_test)\n",
    "accuracy_list.append(accuracy_score(prediction, labels_test)*100)"
   ]
  },
  {
   "cell_type": "code",
   "execution_count": 220,
   "metadata": {
    "scrolled": true
   },
   "outputs": [
    {
     "name": "stdout",
     "output_type": "stream",
     "text": [
      "             precision    recall  f1-score   support\n",
      "\n",
      "          0       0.99      1.00      0.99       563\n",
      "          1       0.96      0.94      0.95       555\n",
      "          2       0.96      0.96      0.96       567\n",
      "          3       1.00      1.00      1.00       529\n",
      "          4       1.00      0.99      0.99       425\n",
      "          5       0.99      0.99      0.99       451\n",
      "\n",
      "avg / total       0.98      0.98      0.98      3090\n",
      "\n"
     ]
    }
   ],
   "source": [
    "print(classification_report(labels_test, prediction))"
   ]
  },
  {
   "cell_type": "code",
   "execution_count": 203,
   "metadata": {},
   "outputs": [
    {
     "name": "stderr",
     "output_type": "stream",
     "text": [
      "c:\\users\\shabnam naz\\appdata\\local\\programs\\python\\python37\\lib\\site-packages\\sklearn\\discriminant_analysis.py:388: UserWarning: Variables are collinear.\n",
      "  warnings.warn(\"Variables are collinear.\")\n"
     ]
    },
    {
     "name": "stdout",
     "output_type": "stream",
     "text": [
      "Train accuracy: 98.36315716465529\n",
      "Test accuracy 98.89967637540454\n"
     ]
    }
   ],
   "source": [
    "lda = LDA()\n",
    "lda.fit(features_train, labels_train)\n",
    "prediction1 = lda.score(features_train,labels_train)\n",
    "print(\"Train accuracy:\",prediction1*100)\n",
    "\n",
    "lda.fit(features_test, labels_test)\n",
    "prediction = lda.score(features_test,labels_test)\n",
    "print(\"Test accuracy:\",prediction*100)"
   ]
  },
  {
   "cell_type": "markdown",
   "metadata": {},
   "source": [
    "### 2. Decision Tree"
   ]
  },
  {
   "cell_type": "code",
   "execution_count": 221,
   "metadata": {},
   "outputs": [],
   "source": [
    "## Decision Tree \n",
    "clf = tree.DecisionTreeClassifier()\n",
    "## min_samples_split=50 max_depth = 5 criterion='entropy'\n",
    "clf.fit(features_train, labels_train)\n",
    "prediction = clf.predict(features_test)\n",
    "## Computing accuracy\n",
    "accuracy_list.append(accuracy_score(prediction, labels_test)*100)"
   ]
  },
  {
   "cell_type": "code",
   "execution_count": 222,
   "metadata": {},
   "outputs": [
    {
     "name": "stdout",
     "output_type": "stream",
     "text": [
      "             precision    recall  f1-score   support\n",
      "\n",
      "          0       1.00      1.00      1.00       563\n",
      "          1       0.89      0.88      0.89       555\n",
      "          2       0.89      0.90      0.89       567\n",
      "          3       0.94      0.95      0.94       529\n",
      "          4       0.94      0.91      0.93       425\n",
      "          5       0.89      0.92      0.91       451\n",
      "\n",
      "avg / total       0.93      0.93      0.93      3090\n",
      "\n"
     ]
    }
   ],
   "source": [
    "print(classification_report(labels_test, prediction))"
   ]
  },
  {
   "cell_type": "code",
   "execution_count": 206,
   "metadata": {},
   "outputs": [
    {
     "name": "stdout",
     "output_type": "stream",
     "text": [
      "Train accuracy: 100.0\n",
      "Test accuracy 100.0\n"
     ]
    }
   ],
   "source": [
    "clf.fit(features_train, labels_train)\n",
    "prediction1 = clf.score(features_train,labels_train)\n",
    "print(\"Train accuracy:\",prediction1*100)\n",
    "\n",
    "clf.fit(features_test, labels_test)\n",
    "prediction = clf.score(features_test,labels_test)\n",
    "print(\"Test accuracy:\",prediction*100)"
   ]
  },
  {
   "cell_type": "markdown",
   "metadata": {},
   "source": [
    "### 3. Logistic Regression "
   ]
  },
  {
   "cell_type": "code",
   "execution_count": 223,
   "metadata": {},
   "outputs": [],
   "source": [
    "logr = LogisticRegression()\n",
    "logr.fit(features_train, labels_train)\n",
    "prediction = logr.predict(features_test)\n",
    "accuracy_list.append(accuracy_score(prediction, labels_test)*100)"
   ]
  },
  {
   "cell_type": "code",
   "execution_count": 224,
   "metadata": {},
   "outputs": [
    {
     "name": "stdout",
     "output_type": "stream",
     "text": [
      "             precision    recall  f1-score   support\n",
      "\n",
      "          0       0.99      1.00      1.00       563\n",
      "          1       0.96      0.94      0.95       555\n",
      "          2       0.95      0.96      0.95       567\n",
      "          3       0.98      0.99      0.99       529\n",
      "          4       0.99      0.99      0.99       425\n",
      "          5       1.00      0.99      0.99       451\n",
      "\n",
      "avg / total       0.98      0.98      0.98      3090\n",
      "\n"
     ]
    }
   ],
   "source": [
    "print(classification_report(labels_test, prediction))"
   ]
  },
  {
   "cell_type": "code",
   "execution_count": 208,
   "metadata": {},
   "outputs": [
    {
     "name": "stdout",
     "output_type": "stream",
     "text": [
      "Train accuracy: 98.14121237342212\n",
      "Test accuracy 98.28478964401295\n"
     ]
    }
   ],
   "source": [
    "logr.fit(features_train, labels_train)\n",
    "prediction1 = logr.score(features_train,labels_train)\n",
    "print(\"Train accuracy:\",prediction1*100)\n",
    "\n",
    "logr.fit(features_test, labels_test)\n",
    "prediction = logr.score(features_test,labels_test)\n",
    "print(\"Test accuracy:\",prediction*100)"
   ]
  },
  {
   "cell_type": "markdown",
   "metadata": {},
   "source": [
    "### 4. KNN"
   ]
  },
  {
   "cell_type": "code",
   "execution_count": 225,
   "metadata": {},
   "outputs": [],
   "source": [
    "knn = KNeighborsClassifier()\n",
    "knn.fit(features_train, labels_train)\n",
    "prediction = knn.predict(features_test)\n",
    "accuracy_list.append(accuracy_score(prediction, labels_test)*100)"
   ]
  },
  {
   "cell_type": "code",
   "execution_count": 226,
   "metadata": {},
   "outputs": [
    {
     "name": "stdout",
     "output_type": "stream",
     "text": [
      "             precision    recall  f1-score   support\n",
      "\n",
      "          0       0.99      1.00      1.00       563\n",
      "          1       0.93      0.90      0.91       555\n",
      "          2       0.91      0.94      0.92       567\n",
      "          3       1.00      1.00      1.00       529\n",
      "          4       1.00      0.99      0.99       425\n",
      "          5       1.00      1.00      1.00       451\n",
      "\n",
      "avg / total       0.97      0.97      0.97      3090\n",
      "\n"
     ]
    }
   ],
   "source": [
    "print(classification_report(labels_test, prediction))"
   ]
  },
  {
   "cell_type": "code",
   "execution_count": 210,
   "metadata": {},
   "outputs": [
    {
     "name": "stdout",
     "output_type": "stream",
     "text": [
      "Train accuracy: 98.23831321958663\n",
      "Test accuracy 96.79611650485437\n"
     ]
    }
   ],
   "source": [
    "knn.fit(features_train, labels_train)\n",
    "prediction1 = knn.score(features_train,labels_train)\n",
    "print(\"Train accuracy:\",prediction1*100)\n",
    "\n",
    "knn.fit(features_test, labels_test)\n",
    "prediction = knn.score(features_test,labels_test)\n",
    "print(\"Test accuracy:\",prediction*100)"
   ]
  },
  {
   "cell_type": "markdown",
   "metadata": {},
   "source": [
    "### 5. SVM"
   ]
  },
  {
   "cell_type": "code",
   "execution_count": 227,
   "metadata": {},
   "outputs": [],
   "source": [
    "svmc = svm.SVC()\n",
    "\n",
    "svmc.fit(features_train, labels_train)\n",
    "prediction = svmc.predict(features_test)\n",
    "accuracy_list.append(accuracy_score(prediction, labels_test)*100)"
   ]
  },
  {
   "cell_type": "code",
   "execution_count": 228,
   "metadata": {},
   "outputs": [
    {
     "name": "stdout",
     "output_type": "stream",
     "text": [
      "             precision    recall  f1-score   support\n",
      "\n",
      "          0       0.99      1.00      0.99       563\n",
      "          1       0.87      0.79      0.83       555\n",
      "          2       0.82      0.88      0.85       567\n",
      "          3       0.97      0.97      0.97       529\n",
      "          4       0.95      0.88      0.92       425\n",
      "          5       0.89      0.96      0.92       451\n",
      "\n",
      "avg / total       0.91      0.91      0.91      3090\n",
      "\n"
     ]
    }
   ],
   "source": [
    "print(classification_report(labels_test, prediction))"
   ]
  },
  {
   "cell_type": "code",
   "execution_count": 212,
   "metadata": {},
   "outputs": [
    {
     "name": "stdout",
     "output_type": "stream",
     "text": [
      "Train accuracy: 91.46899708697461\n",
      "Test accuracy 89.32038834951457\n"
     ]
    }
   ],
   "source": [
    "svmc.fit(features_train, labels_train)\n",
    "prediction1 = svmc.score(features_train,labels_train)\n",
    "print(\"Train accuracy:\",prediction1*100)\n",
    "\n",
    "svmc.fit(features_test, labels_test)\n",
    "prediction = svmc.score(features_test,labels_test)\n",
    "print(\"Test accuracy\",prediction*100)"
   ]
  },
  {
   "cell_type": "markdown",
   "metadata": {},
   "source": [
    "### 6. Gaussian Naive Bayes "
   ]
  },
  {
   "cell_type": "code",
   "execution_count": 229,
   "metadata": {},
   "outputs": [],
   "source": [
    "gnb = GaussianNB()\n",
    "\n",
    "gnb.fit(features_train, labels_train)\n",
    "prediction = gnb.predict(features_test)\n",
    "accuracy_list.append(accuracy_score(prediction, labels_test)*100)"
   ]
  },
  {
   "cell_type": "code",
   "execution_count": 231,
   "metadata": {},
   "outputs": [
    {
     "name": "stdout",
     "output_type": "stream",
     "text": [
      "             precision    recall  f1-score   support\n",
      "\n",
      "          0       0.98      0.81      0.89       563\n",
      "          1       0.51      0.90      0.65       555\n",
      "          2       0.82      0.31      0.45       567\n",
      "          3       0.91      0.70      0.79       529\n",
      "          4       0.74      0.74      0.74       425\n",
      "          5       0.67      0.88      0.76       451\n",
      "\n",
      "avg / total       0.78      0.72      0.71      3090\n",
      "\n"
     ]
    }
   ],
   "source": [
    "print(classification_report(labels_test, prediction))"
   ]
  },
  {
   "cell_type": "code",
   "execution_count": 214,
   "metadata": {},
   "outputs": [
    {
     "name": "stdout",
     "output_type": "stream",
     "text": [
      "Train accuracy: 73.04757941462061\n",
      "Test accuracy 79.67637540453075\n"
     ]
    }
   ],
   "source": [
    "gnb.fit(features_train, labels_train)\n",
    "prediction1 = gnb.score(features_train,labels_train)\n",
    "print(\"Train accuracy:\",prediction1*100)\n",
    "\n",
    "gnb.fit(features_test, labels_test)\n",
    "prediction = gnb.score(features_test,labels_test)\n",
    "print(\"Test accuracy\",prediction*100)"
   ]
  },
  {
   "cell_type": "markdown",
   "metadata": {},
   "source": [
    "### 7. Decision Tree with GridSearchCV"
   ]
  },
  {
   "cell_type": "code",
   "execution_count": 232,
   "metadata": {},
   "outputs": [],
   "source": [
    "parameters = {'criterion':('gini', 'entropy'), 'max_depth':[1, 3, 5, 10]}\n",
    "dt = tree.DecisionTreeClassifier()\n",
    "clf = grid_search.GridSearchCV(dt, parameters)\n",
    "\n",
    "clf.fit(features_train, labels_train)\n",
    "prediction = clf.predict(features_test)\n",
    "accuracy_list.append(accuracy_score(prediction, labels_test)*100)"
   ]
  },
  {
   "cell_type": "code",
   "execution_count": 233,
   "metadata": {},
   "outputs": [
    {
     "name": "stdout",
     "output_type": "stream",
     "text": [
      "             precision    recall  f1-score   support\n",
      "\n",
      "          0       1.00      1.00      1.00       563\n",
      "          1       0.94      0.88      0.91       555\n",
      "          2       0.89      0.95      0.92       567\n",
      "          3       0.95      0.94      0.95       529\n",
      "          4       0.91      0.91      0.91       425\n",
      "          5       0.90      0.91      0.90       451\n",
      "\n",
      "avg / total       0.93      0.93      0.93      3090\n",
      "\n"
     ]
    }
   ],
   "source": [
    "print(classification_report(labels_test, prediction))"
   ]
  },
  {
   "cell_type": "code",
   "execution_count": 216,
   "metadata": {},
   "outputs": [
    {
     "name": "stdout",
     "output_type": "stream",
     "text": [
      "Train accuracy: 99.56998196698571\n",
      "Test accuracy 100.0\n"
     ]
    }
   ],
   "source": [
    "clf.fit(features_train, labels_train)\n",
    "prediction1 = clf.score(features_train,labels_train)\n",
    "print(\"Train accuracy:\",prediction1*100)\n",
    "\n",
    "clf.fit(features_test, labels_test)\n",
    "prediction = clf.score(features_test,labels_test)\n",
    "print(\"Test accuracy\",prediction*100)"
   ]
  },
  {
   "cell_type": "markdown",
   "metadata": {},
   "source": [
    "## Module 4: Model Evalutation & Comparision"
   ]
  },
  {
   "cell_type": "code",
   "execution_count": 130,
   "metadata": {},
   "outputs": [
    {
     "data": {
      "text/plain": [
       "[97.92880258899676,\n",
       " 93.20388349514563,\n",
       " 98.2200647249191,\n",
       " 96.73139158576052,\n",
       " 94.53074433656958,\n",
       " 72.00647249190939,\n",
       " 93.46278317152104]"
      ]
     },
     "execution_count": 130,
     "metadata": {},
     "output_type": "execute_result"
    }
   ],
   "source": [
    "accuracy_list"
   ]
  },
  {
   "cell_type": "code",
   "execution_count": 138,
   "metadata": {},
   "outputs": [
    {
     "data": {
      "text/plain": [
       "[2.07119741100324,\n",
       " 6.796116504854368,\n",
       " 1.779935275080902,\n",
       " 3.2686084142394805,\n",
       " 5.469255663430417,\n",
       " 27.993527508090608,\n",
       " 6.537216828478961]"
      ]
     },
     "execution_count": 138,
     "metadata": {},
     "output_type": "execute_result"
    }
   ],
   "source": [
    "error_rate = []\n",
    "for k in accuracy_list:\n",
    "    error_rate.append(100-k)\n",
    "error_rate"
   ]
  },
  {
   "cell_type": "code",
   "execution_count": 134,
   "metadata": {},
   "outputs": [],
   "source": [
    "model = {'Classifiers':['LDA','Decision Tree','Logistic Regression','KNN','SVM','Gaussian NB','Decision Tree_GridSearchCV'],\n",
    "        'Accuracy':accuracy_list,\n",
    "        'Error Rate':error_rate\n",
    "        }"
   ]
  },
  {
   "cell_type": "code",
   "execution_count": 139,
   "metadata": {},
   "outputs": [
    {
     "data": {
      "text/html": [
       "<div>\n",
       "<style scoped>\n",
       "    .dataframe tbody tr th:only-of-type {\n",
       "        vertical-align: middle;\n",
       "    }\n",
       "\n",
       "    .dataframe tbody tr th {\n",
       "        vertical-align: top;\n",
       "    }\n",
       "\n",
       "    .dataframe thead th {\n",
       "        text-align: right;\n",
       "    }\n",
       "</style>\n",
       "<table border=\"1\" class=\"dataframe\">\n",
       "  <thead>\n",
       "    <tr style=\"text-align: right;\">\n",
       "      <th></th>\n",
       "      <th>Classifiers</th>\n",
       "      <th>Accuracy</th>\n",
       "      <th>Error Rate</th>\n",
       "    </tr>\n",
       "  </thead>\n",
       "  <tbody>\n",
       "    <tr>\n",
       "      <th>0</th>\n",
       "      <td>LDA</td>\n",
       "      <td>97.928803</td>\n",
       "      <td>2.071197</td>\n",
       "    </tr>\n",
       "    <tr>\n",
       "      <th>1</th>\n",
       "      <td>Decision Tree</td>\n",
       "      <td>93.203883</td>\n",
       "      <td>6.796117</td>\n",
       "    </tr>\n",
       "    <tr>\n",
       "      <th>2</th>\n",
       "      <td>Logistic Regression</td>\n",
       "      <td>98.220065</td>\n",
       "      <td>1.779935</td>\n",
       "    </tr>\n",
       "    <tr>\n",
       "      <th>3</th>\n",
       "      <td>KNN</td>\n",
       "      <td>96.731392</td>\n",
       "      <td>3.268608</td>\n",
       "    </tr>\n",
       "    <tr>\n",
       "      <th>4</th>\n",
       "      <td>SVM</td>\n",
       "      <td>94.530744</td>\n",
       "      <td>5.469256</td>\n",
       "    </tr>\n",
       "    <tr>\n",
       "      <th>5</th>\n",
       "      <td>Gaussian NB</td>\n",
       "      <td>72.006472</td>\n",
       "      <td>27.993528</td>\n",
       "    </tr>\n",
       "    <tr>\n",
       "      <th>6</th>\n",
       "      <td>Decision Tree_GridSearchCV</td>\n",
       "      <td>93.462783</td>\n",
       "      <td>6.537217</td>\n",
       "    </tr>\n",
       "  </tbody>\n",
       "</table>\n",
       "</div>"
      ],
      "text/plain": [
       "                  Classifiers   Accuracy  Error Rate\n",
       "0                         LDA  97.928803    2.071197\n",
       "1               Decision Tree  93.203883    6.796117\n",
       "2         Logistic Regression  98.220065    1.779935\n",
       "3                         KNN  96.731392    3.268608\n",
       "4                         SVM  94.530744    5.469256\n",
       "5                 Gaussian NB  72.006472   27.993528\n",
       "6  Decision Tree_GridSearchCV  93.462783    6.537217"
      ]
     },
     "execution_count": 139,
     "metadata": {},
     "output_type": "execute_result"
    }
   ],
   "source": [
    "result = pd.DataFrame(model)\n",
    "result"
   ]
  },
  {
   "cell_type": "code",
   "execution_count": 142,
   "metadata": {},
   "outputs": [
    {
     "data": {
      "text/plain": [
       "98.2200647249191"
      ]
     },
     "execution_count": 142,
     "metadata": {},
     "output_type": "execute_result"
    }
   ],
   "source": [
    "max(result['Accuracy'])"
   ]
  },
  {
   "cell_type": "code",
   "execution_count": 143,
   "metadata": {},
   "outputs": [
    {
     "data": {
      "text/plain": [
       "1.779935275080902"
      ]
     },
     "execution_count": 143,
     "metadata": {},
     "output_type": "execute_result"
    }
   ],
   "source": [
    "min(result['Error Rate'])"
   ]
  },
  {
   "cell_type": "markdown",
   "metadata": {},
   "source": [
    "### Conclusion:\n",
    "Logistic Regression classification yields better accuracy and precision hence, better results are obtained with minimum error rate."
   ]
  }
 ],
 "metadata": {
  "kernelspec": {
   "display_name": "Python 3",
   "language": "python",
   "name": "python3"
  },
  "language_info": {
   "codemirror_mode": {
    "name": "ipython",
    "version": 3
   },
   "file_extension": ".py",
   "mimetype": "text/x-python",
   "name": "python",
   "nbconvert_exporter": "python",
   "pygments_lexer": "ipython3",
   "version": "3.7.0"
  }
 },
 "nbformat": 4,
 "nbformat_minor": 2
}
